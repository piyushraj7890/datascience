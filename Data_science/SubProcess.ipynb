{
 "cells": [
  {
   "cell_type": "code",
   "execution_count": 1,
   "metadata": {},
   "outputs": [
    {
     "name": "stdout",
     "output_type": "stream",
     "text": [
      "Jul 6 14:01:23 pid:29440\n",
      "Jul 6 14:02:08 pid:29187\n",
      "Jul 6 14:02:09 pid:29187\n",
      "Jul 6 14:03:01 pid:29440\n",
      "Jul 6 14:03:40 pid:29807\n",
      "Jul 6 14:04:01 pid:29440\n",
      "Jul 6 14:05:01 pid:29440\n"
     ]
    }
   ],
   "source": [
    "import re\n",
    "def show_time_of_pid(line):\n",
    "  pattern = r\"(\\w+ \\d+ \\d+:\\d+:\\d+) (\\w+\\.\\w+ \\w+=?\\w+\\[\\d+\\])\"\n",
    "  result = re.search(pattern, line)\n",
    "  split = re.split(r\"\\[|\\]\",result[2])\n",
    "  return f'{result[1]} pid:{split[1]}'\n",
    "#(\\w+ \\d+ \\d+:\\d+:\\d+ \\w+\\.\\w+ \\w+=?\\w+\\[\\d+\\])\n",
    "print(show_time_of_pid(\"Jul 6 14:01:23 computer.name CRON[29440]: USER (good_user)\")) # Jul 6 14:01:23 pid:29440\n",
    "\n",
    "print(show_time_of_pid(\"Jul 6 14:02:08 computer.name jam_tag=psim[29187]: (UUID:006)\")) # Jul 6 14:02:08 pid:29187\n",
    "\n",
    "print(show_time_of_pid(\"Jul 6 14:02:09 computer.name jam_tag=psim[29187]: (UUID:007)\")) # Jul 6 14:02:09 pid:29187\n",
    "\n",
    "print(show_time_of_pid(\"Jul 6 14:03:01 computer.name CRON[29440]: USER (naughty_user)\")) # Jul 6 14:03:01 pid:29440\n",
    "\n",
    "print(show_time_of_pid(\"Jul 6 14:03:40 computer.name cacheclient[29807]: start syncing from \\\"0xDEADBEEF\\\"\")) # Jul 6 14:03:40 pid:29807\n",
    "\n",
    "print(show_time_of_pid(\"Jul 6 14:04:01 computer.name CRON[29440]: USER (naughty_user)\")) # Jul 6 14:04:01 pid:29440\n",
    "\n",
    "print(show_time_of_pid(\"Jul 6 14:05:01 computer.name CRON[29440]: USER (naughty_user)\")) # Jul 6 14:05:01 pid:29440\n"
   ]
  },
  {
   "cell_type": "code",
   "execution_count": 2,
   "metadata": {},
   "outputs": [
    {
     "name": "stdout",
     "output_type": "stream",
     "text": [
      "Piyush, raj\n"
     ]
    }
   ],
   "source": [
    "import re\n",
    "pattern = r\"^[a-zA-Z_]\\w*$\"\n",
    "# print(re.search(pattern,\"1this_is_a__notvariable\"))\n",
    "\n",
    "pattern2 = r\"^(\\w*), (\\w*)$\"\n",
    "result = re.search(pattern2,\"Piyush, raj\")\n",
    "print(result.group())"
   ]
  },
  {
   "cell_type": "code",
   "execution_count": 4,
   "metadata": {},
   "outputs": [
    {
     "name": "stdout",
     "output_type": "stream",
     "text": [
      "Piyush raj\n"
     ]
    }
   ],
   "source": [
    "def rearrange_name(name):\n",
    "    pattern = r\"^([\\w .-]*), ([\\w .-]*)$\"\n",
    "    result = re.search(pattern,name)\n",
    "    if result is None:\n",
    "        return name\n",
    "    return f'{result[2]} {result[1]}'\n",
    "\n",
    "print(rearrange_name(\"raj, Piyush\"))"
   ]
  },
  {
   "cell_type": "code",
   "execution_count": 5,
   "metadata": {},
   "outputs": [
    {
     "name": "stdout",
     "output_type": "stream",
     "text": [
      "Error file c:\\Users\\Asus\\anaconda3\\lib\\site-packages\\ipykernel_launcher.py already exist\n"
     ]
    },
    {
     "ename": "SystemExit",
     "evalue": "1",
     "output_type": "error",
     "traceback": [
      "An exception has occurred, use %tb to see the full traceback.\n",
      "\u001b[1;31mSystemExit\u001b[0m\u001b[1;31m:\u001b[0m 1\n"
     ]
    },
    {
     "name": "stderr",
     "output_type": "stream",
     "text": [
      "c:\\Users\\Asus\\anaconda3\\lib\\site-packages\\IPython\\core\\interactiveshell.py:3465: UserWarning: To exit: use 'exit', 'quit', or Ctrl-D.\n",
      "  warn(\"To exit: use 'exit', 'quit', or Ctrl-D.\", stacklevel=1)\n"
     ]
    }
   ],
   "source": [
    "import sys\n",
    "import os\n",
    "\n",
    "filename = sys.argv[0]\n",
    "\n",
    "if not os.path.exists(filename):\n",
    "    with open(filename,'w') as f:\n",
    "        f.write('New file created\\n')\n",
    "else:\n",
    "    print(f'Error file {filename} already exist')\n",
    "    sys.exit(1)"
   ]
  },
  {
   "cell_type": "code",
   "execution_count": null,
   "metadata": {},
   "outputs": [],
   "source": [
    "import re\n",
    "import sys\n",
    "\n",
    "filename = sys.argv[1]\n",
    "usernames = []\n",
    "with open(filename) as f:\n",
    "    for line in f:\n",
    "        if \"CRON\" not in f:\n",
    "            continue\n",
    "        pattern = r\"USER \\((\\w+))$\"\n",
    "        result = re.search(pattern,line)\n",
    "        if result is None:\n",
    "            continue\n",
    "        name = result[1]\n",
    "        usernames[name] = usernames.get(name,0)+1\n",
    "print(usernames)"
   ]
  }
 ],
 "metadata": {
  "kernelspec": {
   "display_name": "base",
   "language": "python",
   "name": "python3"
  },
  "language_info": {
   "codemirror_mode": {
    "name": "ipython",
    "version": 3
   },
   "file_extension": ".py",
   "mimetype": "text/x-python",
   "name": "python",
   "nbconvert_exporter": "python",
   "pygments_lexer": "ipython3",
   "version": "3.9.13"
  },
  "orig_nbformat": 4
 },
 "nbformat": 4,
 "nbformat_minor": 2
}
