{
 "cells": [
  {
   "cell_type": "code",
   "execution_count": 1,
   "metadata": {},
   "outputs": [
    {
     "data": {
      "text/html": [
       "<div>\n",
       "<style scoped>\n",
       "    .dataframe tbody tr th:only-of-type {\n",
       "        vertical-align: middle;\n",
       "    }\n",
       "\n",
       "    .dataframe tbody tr th {\n",
       "        vertical-align: top;\n",
       "    }\n",
       "\n",
       "    .dataframe thead th {\n",
       "        text-align: right;\n",
       "    }\n",
       "</style>\n",
       "<table border=\"1\" class=\"dataframe\">\n",
       "  <thead>\n",
       "    <tr style=\"text-align: right;\">\n",
       "      <th></th>\n",
       "      <th>ID</th>\n",
       "      <th>GlideNumber</th>\n",
       "      <th>Country</th>\n",
       "      <th>OtherCountry</th>\n",
       "      <th>long</th>\n",
       "      <th>lat</th>\n",
       "      <th>Area</th>\n",
       "      <th>Began</th>\n",
       "      <th>Ended</th>\n",
       "      <th>Validation</th>\n",
       "      <th>Dead</th>\n",
       "      <th>Displaced</th>\n",
       "      <th>MainCause</th>\n",
       "      <th>Severity</th>\n",
       "    </tr>\n",
       "  </thead>\n",
       "  <tbody>\n",
       "    <tr>\n",
       "      <th>0</th>\n",
       "      <td>1</td>\n",
       "      <td>0</td>\n",
       "      <td>Algeria</td>\n",
       "      <td>0</td>\n",
       "      <td>5.23026</td>\n",
       "      <td>35.81420</td>\n",
       "      <td>92615.67</td>\n",
       "      <td>1985-01-01</td>\n",
       "      <td>1985-01-05</td>\n",
       "      <td>News</td>\n",
       "      <td>26</td>\n",
       "      <td>3000</td>\n",
       "      <td>Heavy rain</td>\n",
       "      <td>1.0</td>\n",
       "    </tr>\n",
       "    <tr>\n",
       "      <th>1</th>\n",
       "      <td>2</td>\n",
       "      <td>0</td>\n",
       "      <td>Brazil</td>\n",
       "      <td>0</td>\n",
       "      <td>-45.34890</td>\n",
       "      <td>-18.71110</td>\n",
       "      <td>678498.82</td>\n",
       "      <td>1985-01-15</td>\n",
       "      <td>1985-02-02</td>\n",
       "      <td>News</td>\n",
       "      <td>229</td>\n",
       "      <td>80000</td>\n",
       "      <td>Heavy rain</td>\n",
       "      <td>2.0</td>\n",
       "    </tr>\n",
       "    <tr>\n",
       "      <th>2</th>\n",
       "      <td>3</td>\n",
       "      <td>0</td>\n",
       "      <td>Phillipines</td>\n",
       "      <td>0</td>\n",
       "      <td>122.97400</td>\n",
       "      <td>10.02070</td>\n",
       "      <td>12846.03</td>\n",
       "      <td>1985-01-20</td>\n",
       "      <td>1985-01-21</td>\n",
       "      <td>News</td>\n",
       "      <td>43</td>\n",
       "      <td>444</td>\n",
       "      <td>Torrential rain</td>\n",
       "      <td>1.0</td>\n",
       "    </tr>\n",
       "    <tr>\n",
       "      <th>3</th>\n",
       "      <td>4</td>\n",
       "      <td>0</td>\n",
       "      <td>Indonesia</td>\n",
       "      <td>0</td>\n",
       "      <td>124.60600</td>\n",
       "      <td>1.01489</td>\n",
       "      <td>16542.12</td>\n",
       "      <td>1985-02-04</td>\n",
       "      <td>1985-02-18</td>\n",
       "      <td>News</td>\n",
       "      <td>21</td>\n",
       "      <td>300</td>\n",
       "      <td>Torrential rain</td>\n",
       "      <td>1.0</td>\n",
       "    </tr>\n",
       "    <tr>\n",
       "      <th>4</th>\n",
       "      <td>5</td>\n",
       "      <td>0</td>\n",
       "      <td>Mozambique</td>\n",
       "      <td>0</td>\n",
       "      <td>32.34910</td>\n",
       "      <td>-25.86930</td>\n",
       "      <td>20082.21</td>\n",
       "      <td>1985-02-09</td>\n",
       "      <td>1985-02-11</td>\n",
       "      <td>News</td>\n",
       "      <td>19</td>\n",
       "      <td>0</td>\n",
       "      <td>Heavy rain</td>\n",
       "      <td>2.0</td>\n",
       "    </tr>\n",
       "  </tbody>\n",
       "</table>\n",
       "</div>"
      ],
      "text/plain": [
       "   ID GlideNumber      Country OtherCountry       long       lat       Area   \n",
       "0   1           0      Algeria            0    5.23026  35.81420   92615.67  \\\n",
       "1   2           0       Brazil            0  -45.34890 -18.71110  678498.82   \n",
       "2   3           0  Phillipines            0  122.97400  10.02070   12846.03   \n",
       "3   4           0    Indonesia            0  124.60600   1.01489   16542.12   \n",
       "4   5           0   Mozambique            0   32.34910 -25.86930   20082.21   \n",
       "\n",
       "       Began      Ended Validation  Dead  Displaced        MainCause  Severity  \n",
       "0 1985-01-01 1985-01-05       News    26       3000       Heavy rain       1.0  \n",
       "1 1985-01-15 1985-02-02       News   229      80000       Heavy rain       2.0  \n",
       "2 1985-01-20 1985-01-21       News    43        444  Torrential rain       1.0  \n",
       "3 1985-02-04 1985-02-18       News    21        300  Torrential rain       1.0  \n",
       "4 1985-02-09 1985-02-11       News    19          0       Heavy rain       2.0  "
      ]
     },
     "execution_count": 1,
     "metadata": {},
     "output_type": "execute_result"
    }
   ],
   "source": [
    "import pandas as pd\n",
    "\n",
    "flood_data = pd.read_excel('./datafolder/FloodArchive.xlsx')\n",
    "flood_data.head()"
   ]
  },
  {
   "cell_type": "code",
   "execution_count": 8,
   "metadata": {},
   "outputs": [
    {
     "name": "stdout",
     "output_type": "stream",
     "text": [
      "Collecting gunicorn\n",
      "  Downloading gunicorn-20.1.0-py3-none-any.whl (79 kB)\n",
      "     ---------------------------------------- 79.5/79.5 kB 2.2 MB/s eta 0:00:00\n",
      "Requirement already satisfied: setuptools>=3.0 in c:\\users\\asus\\anaconda3\\lib\\site-packages (from gunicorn) (63.4.1)\n",
      "Installing collected packages: gunicorn\n",
      "Successfully installed gunicorn-20.1.0\n"
     ]
    }
   ],
   "source": [
    "!pip install gunicorn"
   ]
  },
  {
   "cell_type": "code",
   "execution_count": 3,
   "metadata": {},
   "outputs": [
    {
     "name": "stdout",
     "output_type": "stream",
     "text": [
      "Requirement already satisfied: plotly in c:\\users\\asus\\anaconda3\\lib\\site-packages (5.9.0)\n",
      "Requirement already satisfied: tenacity>=6.2.0 in c:\\users\\asus\\anaconda3\\lib\\site-packages (from plotly) (8.0.1)\n"
     ]
    }
   ],
   "source": [
    "!pip install plotly"
   ]
  },
  {
   "cell_type": "code",
   "execution_count": 11,
   "metadata": {},
   "outputs": [
    {
     "name": "stdout",
     "output_type": "stream",
     "text": [
      "Dash is running on http://127.0.0.1:8050/\n",
      "\n",
      " * Serving Flask app \"__main__\" (lazy loading)\n",
      " * Environment: production\n",
      "\u001b[31m   WARNING: This is a development server. Do not use it in a production deployment.\u001b[0m\n",
      "\u001b[2m   Use a production WSGI server instead.\u001b[0m\n",
      " * Debug mode: on\n"
     ]
    },
    {
     "ename": "SystemExit",
     "evalue": "1",
     "output_type": "error",
     "traceback": [
      "An exception has occurred, use %tb to see the full traceback.\n",
      "\u001b[1;31mSystemExit\u001b[0m\u001b[1;31m:\u001b[0m 1\n"
     ]
    },
    {
     "name": "stderr",
     "output_type": "stream",
     "text": [
      "c:\\Users\\Asus\\anaconda3\\lib\\site-packages\\IPython\\core\\interactiveshell.py:3465: UserWarning:\n",
      "\n",
      "To exit: use 'exit', 'quit', or Ctrl-D.\n",
      "\n"
     ]
    }
   ],
   "source": [
    "from dash import Dash, html, dcc, callback, Output, Input\n",
    "import plotly.express as px\n",
    "import pandas as pd\n",
    "\n",
    "df = pd.read_csv('https://raw.githubusercontent.com/plotly/datasets/master/gapminder_unfiltered.csv')\n",
    "\n",
    "app = Dash(__name__)\n",
    "\n",
    "app.layout = html.Div([\n",
    "    html.H1(children='Title of Dash App', style={'textAlign':'center'}),\n",
    "    dcc.Dropdown(options=[{'label': country, 'value': country} for country in df.country.unique()], value='Canada', id='dropdown-selection'),\n",
    "    dcc.Graph(id='graph-content')\n",
    "])\n",
    "\n",
    "@app.callback(\n",
    "    Output('graph-content', 'figure'),\n",
    "    Input('dropdown-selection', 'value')\n",
    ")\n",
    "def update_graph(value):\n",
    "    dff = df[df.country==value]\n",
    "    return px.line(dff, x='year', y='pop')\n",
    "\n",
    "\n",
    "if __name__ == \"__main__\":\n",
    "    app.run_server(debug=True)\n"
   ]
  },
  {
   "cell_type": "code",
   "execution_count": 7,
   "metadata": {},
   "outputs": [
    {
     "name": "stdout",
     "output_type": "stream",
     "text": [
      "Dash is running on http://127.0.0.1:8050/\n",
      "\n",
      " * Serving Flask app \"__main__\" (lazy loading)\n",
      " * Environment: production\n",
      "\u001b[31m   WARNING: This is a development server. Do not use it in a production deployment.\u001b[0m\n",
      "\u001b[2m   Use a production WSGI server instead.\u001b[0m\n",
      " * Debug mode: on\n"
     ]
    },
    {
     "ename": "SystemExit",
     "evalue": "1",
     "output_type": "error",
     "traceback": [
      "An exception has occurred, use %tb to see the full traceback.\n",
      "\u001b[1;31mSystemExit\u001b[0m\u001b[1;31m:\u001b[0m 1\n"
     ]
    },
    {
     "name": "stderr",
     "output_type": "stream",
     "text": [
      "c:\\Users\\Asus\\anaconda3\\lib\\site-packages\\IPython\\core\\interactiveshell.py:3465: UserWarning: To exit: use 'exit', 'quit', or Ctrl-D.\n",
      "  warn(\"To exit: use 'exit', 'quit', or Ctrl-D.\", stacklevel=1)\n"
     ]
    }
   ],
   "source": [
    "from dash import Dash, html, dcc, callback, Output, Input\n",
    "import plotly.express as px\n",
    "import pandas as pd\n",
    "\n",
    "df = pd.read_csv('https://raw.githubusercontent.com/plotly/datasets/master/gapminder_unfiltered.csv')\n",
    "\n",
    "app = Dash(__name__)\n",
    "\n",
    "app.layout = html.Div([\n",
    "    html.H1(children='Title of Dash App', style={'textAlign':'center'}),\n",
    "    dcc.Dropdown(df.country.unique(), 'Canada', id='dropdown-selection'),\n",
    "    dcc.Graph(id='graph-content')\n",
    "])\n",
    "\n",
    "@callback(\n",
    "    Output('graph-content', 'figure'),\n",
    "    Input('dropdown-selection', 'value')\n",
    ")\n",
    "def update_graph(value):\n",
    "    dff = df[df.country==value]\n",
    "    return px.line(dff, x='year', y='pop')\n",
    "\n",
    "if __name__ == '__main__':\n",
    "    app.run_server(debug=True)\n"
   ]
  }
 ],
 "metadata": {
  "kernelspec": {
   "display_name": "base",
   "language": "python",
   "name": "python3"
  },
  "language_info": {
   "codemirror_mode": {
    "name": "ipython",
    "version": 3
   },
   "file_extension": ".py",
   "mimetype": "text/x-python",
   "name": "python",
   "nbconvert_exporter": "python",
   "pygments_lexer": "ipython3",
   "version": "3.9.13"
  },
  "orig_nbformat": 4
 },
 "nbformat": 4,
 "nbformat_minor": 2
}
